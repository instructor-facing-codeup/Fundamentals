{
 "cells": [
  {
   "cell_type": "markdown",
   "id": "0fddac33",
   "metadata": {},
   "source": [
    "#### Command Line Interface will include:\n",
    "   - Overview\n",
    "   - Introduction\n",
    "   - Listing Files\n",
    "   - File Paths\n",
    "   - Navigating the Filesystem\n",
    "   - Creating Files and Directories\n",
    "   - Moving Files\n",
    "   - More Topics"
   ]
  },
  {
   "cell_type": "markdown",
   "id": "3d551794",
   "metadata": {},
   "source": [
    "The following is a slide deck that was created by Zach G:"
   ]
  },
  {
   "cell_type": "markdown",
   "id": "927be1d9",
   "metadata": {},
   "source": [
    "[CLI Slide Deck](https://docs.google.com/presentation/d/1rmxwqZ2jmRyUP2xn0vtECobpVNCk5kNSMDct0R0BH5Y/edit#slide=id.p)"
   ]
  },
  {
   "cell_type": "markdown",
   "id": "81b202f6",
   "metadata": {},
   "source": [
    " ![handout](CLI)"
   ]
  },
  {
   "cell_type": "code",
   "execution_count": null,
   "id": "ba26f39c",
   "metadata": {},
   "outputs": [],
   "source": []
  }
 ],
 "metadata": {
  "kernelspec": {
   "display_name": "Python 3 (ipykernel)",
   "language": "python",
   "name": "python3"
  },
  "language_info": {
   "codemirror_mode": {
    "name": "ipython",
    "version": 3
   },
   "file_extension": ".py",
   "mimetype": "text/x-python",
   "name": "python",
   "nbconvert_exporter": "python",
   "pygments_lexer": "ipython3",
   "version": "3.9.13"
  }
 },
 "nbformat": 4,
 "nbformat_minor": 5
}
