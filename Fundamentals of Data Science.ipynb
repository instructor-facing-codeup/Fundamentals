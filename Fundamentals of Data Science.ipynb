{
 "cells": [
  {
   "cell_type": "markdown",
   "id": "44bd7baf",
   "metadata": {},
   "source": [
    "# Fundamentals:\n",
    "#### Intro to data science\n",
    "#### Data science pipline"
   ]
  },
  {
   "cell_type": "markdown",
   "id": "35982d94",
   "metadata": {},
   "source": [
    "<hr style=\"border:2px solid gray\">"
   ]
  },
  {
   "cell_type": "markdown",
   "id": "dd122282",
   "metadata": {},
   "source": [
    "The following a slide deck created by Maggie G:"
   ]
  },
  {
   "cell_type": "markdown",
   "id": "89a439d6",
   "metadata": {},
   "source": [
    "[Fundamentals of Data Science](https://docs.google.com/presentation/d/18L2V0VkkOrX-BwbAIpn0t-TXPJHLNXylnNIjcUmX-DA/edit#slide=id.p20)"
   ]
  },
  {
   "cell_type": "markdown",
   "id": "2f322a46",
   "metadata": {},
   "source": [
    "<hr style=\"border:0.5px solid gray\">\n"
   ]
  },
  {
   "cell_type": "markdown",
   "id": "9dbe4d6b",
   "metadata": {},
   "source": [
    "Slide Deck on the Data Science Pipeline"
   ]
  },
  {
   "cell_type": "markdown",
   "id": "d89bed7d",
   "metadata": {},
   "source": [
    "[Data Science Pipeline](https://docs.google.com/presentation/d/1nGaiml9PqkqTeyxAlPFq5hSBFU_Xh8xHxOk3B9-H8dg/edit#slide=id.p)"
   ]
  },
  {
   "cell_type": "markdown",
   "id": "d899c385",
   "metadata": {},
   "source": [
    "<hr style=\"border:0.5px solid gray\">\n"
   ]
  },
  {
   "cell_type": "markdown",
   "id": "2b4dee42",
   "metadata": {},
   "source": [
    "### DS Fundamentals Resource Map Notes\n",
    " \n",
    "**What is Data Science**\n",
    "[Main Dot](https://ds.codeup.com/fundamentals/intro-to-data-science/)\n",
    "\n",
    "1.1 [Video: Data Science in 5 Minutes](https://www.youtube.com/watch?v=X3paOmcrTjQ)\n",
    "1.2 [DS Pipeline - Fraud example](https://drive.google.com/file/d/13A5_TrYXFD8zXMQC7s6oji576Bo5V9hr/view?usp=sharing)\n",
    "<br>\n",
    "DS Product Example  (Taken off for now.)\n",
    "<br>\n",
    "www.menti.com - code 43 87 64 8  \n",
    "\n",
    "<br>\n",
    "\n",
    "1.3 [DS and Stats](https://www.displayr.com/statistics-vs-data-science-whats-the-difference/#:~:text=Statistics%20is%20a%20mathematically%2Dbased,in%20a%20range%20of%20forms.)\n",
    "<br>\n",
    "1.4 [DS and ML](https://ds.codeup.com/fundamentals/intro-to-data-science/#artifical-intelligence-vs-machine-learning-vs-deep-learning)\n",
    "<br>\n",
    "1.5 [DS and Programming](https://ds.codeup.com/fundamentals/intro-to-data-science/#python)\n",
    "<br>\n",
    "1.6 [DS and  Business Analysis](https://www.analyticsvidhya.com/blog/2020/05/business-analyst-vs-data-scientist/)\n",
    "\n",
    "<br>\n",
    "\n",
    "**2. DS Concepts & Vocab** \n",
    "<br>\n",
    "[Main Dot Link to modules descriptions drawing](https://drive.google.com/file/d/1buPIUvITnwjhNp8gu9TK412liNZZb38o/view?usp=sharing)\n",
    "<br>\n",
    "2.1 [Supervised vs. Unsupervised Machine Learning](https://ds.codeup.com/fundamentals/intro-to-data-science/#supervised-vs-unsupervised-machine-learning)\n",
    "<br>\n",
    "2.2 [Structured, Unstructured and Big Data](https://ds.codeup.com/fundamentals/intro-to-data-science/#structured-vs-unstructured-data-vs-big-data)\n",
    "<br>\n",
    "2.3 [Modeling Terms](https://ds.codeup.com/fundamentals/intro-to-data-science/#building-models)\n",
    "<br>\n",
    "2.4 [Important DS Vocabulary](https://ds.codeup.com/fundamentals/vocabulary/) \n",
    "<br>\n",
    "2.5 [Classical Programming Vs Supervised ML](https://drive.google.com/file/d/13jar-w0HmfNLI_XYHexOvFIx7WdAYNN2/view?usp=sharing) \n",
    "\n",
    "<br>\n",
    "\n",
    "**3. DS Tools &  Pipeline**\n",
    "<br>\n",
    "[Main Dot](https://ds.codeup.com/) \n",
    "<br>\n",
    "3.1 Links to DS Pipeline Overview in curriculum?\n",
    "<br>\n",
    "3.2 Links to Pipeline Demo in curriculum?\n",
    "<br>\n",
    "3.3 [Why learn Python and not R, Julia, Scala, Java or other languages? ](https://www.dataquest.io/blog/how-to-learn-python-for-data-science-in-5-steps/#:~:text=In%20short%2C%20understanding%20Python%20is,of%20choice%20for%20data%20science.&text=In%202018%2C%2066%25%20of%20data,one%20language%20for%20analytics%20professionals.)\n",
    "<br>\n",
    "3.4 [Github and command line-type artifact?](https://www.dataquest.io/blog/why-learn-the-command-line/)\n",
    "\n",
    "<br>\n",
    "\n",
    "**4. DS Ethics**\n",
    "<br>\n",
    "[Why develop a data science code of ethics](https://www.youtube.com/watch?v=s8qjmImu1LQ)\n",
    "<br>\n",
    "4.1 [Link to weapons of math destruction book](https://www.goodreads.com/book/show/28186015-weapons-of-math-destruction) \n",
    "<br>\n",
    "4.2 [Link to the Social Dilemma movie on Netflix/Youtube Trailer for Netflix movie?](https://youtu.be/uaaC57tcci0) \n",
    "<br>\n",
    "4.3 [Machine Learning and Human Bias](https://www.youtube.com/watch?v=59bMh59JQDo) \n",
    "<br>\n",
    "4.4 [The Great Hack Trailer]\n",
    "(https://youtu.be/CAMoPbj3jQE) \n",
    "\n",
    "<br>\n",
    "**5. DS Fundamentals Review**\n",
    "<br>\n",
    "[Main Dot](https://quizizz.com/join?gc=56281508) \n",
    "\n",
    "<br>\n",
    "\n",
    "**6. DS Community**\n",
    "<br>\n",
    "[Main Dot](https://ds.codeup.com/fundamentals/intro-to-data-science/#data-science-community) \n",
    "<br>\n",
    "6.1 [DS Community Form in Easley Google Classroom](https://classroom.google.com/c/MjI5NDAwNDI2NTg5/a/MjI5NDAwNDI2NjU2/details)\n",
    "\n",
    "<br>\n",
    "\n",
    "**7. DS Skills in Demand**\n",
    "<br>\n",
    "[Main Dot](https://ds.codeup.com/fundamentals/intro-to-data-science/#data-science-skills-in-demand) \n",
    "<br>\n",
    "7.1 **DS Skills in Demand Rubric** [Rubric](https://docs.google.com/document/d/1YyvQWhvmMQQj9sb4MS3vSfv9VhBH90ulW-A1OpHLs-0/edit?usp=sharing)\n",
    "\n",
    "<br>\n",
    "\n",
    "**Easter Eggs**\n",
    "<br>\n",
    "https://pixelastic.github.io/pokemonorbigdata/ \n",
    "<br>\n",
    "https://roadtolarissa.com/oracle/ \n",
    "<br>\n",
    "http://guessthecorrelation.com/ \n",
    "\n",
    "\n",
    "\n"
   ]
  },
  {
   "cell_type": "code",
   "execution_count": null,
   "id": "6164e55e",
   "metadata": {},
   "outputs": [],
   "source": []
  }
 ],
 "metadata": {
  "kernelspec": {
   "display_name": "Python 3 (ipykernel)",
   "language": "python",
   "name": "python3"
  },
  "language_info": {
   "codemirror_mode": {
    "name": "ipython",
    "version": 3
   },
   "file_extension": ".py",
   "mimetype": "text/x-python",
   "name": "python",
   "nbconvert_exporter": "python",
   "pygments_lexer": "ipython3",
   "version": "3.9.13"
  }
 },
 "nbformat": 4,
 "nbformat_minor": 5
}
