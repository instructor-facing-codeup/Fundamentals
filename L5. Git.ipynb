{
 "cells": [
  {
   "cell_type": "markdown",
   "id": "82188f20",
   "metadata": {},
   "source": [
    "# Git"
   ]
  },
  {
   "cell_type": "markdown",
   "id": "baa05668",
   "metadata": {},
   "source": [
    "[Git Slide Deck](https://docs.google.com/presentation/d/1P0CvZNCr77P9FXAF4RqmgUb90D5F-GEVOa1cJWLzaMA/edit#slide=id.g10b75ddfd75_0_342)"
   ]
  },
  {
   "cell_type": "code",
   "execution_count": null,
   "id": "bf3c238e",
   "metadata": {},
   "outputs": [],
   "source": []
  }
 ],
 "metadata": {
  "kernelspec": {
   "display_name": "Python 3 (ipykernel)",
   "language": "python",
   "name": "python3"
  },
  "language_info": {
   "codemirror_mode": {
    "name": "ipython",
    "version": 3
   },
   "file_extension": ".py",
   "mimetype": "text/x-python",
   "name": "python",
   "nbconvert_exporter": "python",
   "pygments_lexer": "ipython3",
   "version": "3.9.13"
  }
 },
 "nbformat": 4,
 "nbformat_minor": 5
}
