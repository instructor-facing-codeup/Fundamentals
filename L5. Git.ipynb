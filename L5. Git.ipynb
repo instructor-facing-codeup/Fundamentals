{
 "cells": [
  {
   "cell_type": "markdown",
   "id": "82188f20",
   "metadata": {},
   "source": [
    "# Git"
   ]
  },
  {
   "cell_type": "markdown",
   "id": "694fdc02",
   "metadata": {},
   "source": [
    "The following are slide decks created by Zach G:"
   ]
  },
  {
   "cell_type": "markdown",
   "id": "baa05668",
   "metadata": {},
   "source": [
    "[Git Slide Deck](https://docs.google.com/presentation/d/1P0CvZNCr77P9FXAF4RqmgUb90D5F-GEVOa1cJWLzaMA/edit#slide=id.g10b75ddfd75_0_342)"
   ]
  },
  {
   "cell_type": "markdown",
   "id": "d8ce67e7",
   "metadata": {},
   "source": [
    "#### Teamwork/ Merge Issues"
   ]
  },
  {
   "cell_type": "markdown",
   "id": "311a24e0",
   "metadata": {},
   "source": [
    "[Git Teamwork and Merge Conflicts Slide Deck](https://docs.google.com/presentation/d/1An9a3EgeBFeLc2SmKAGt0yooNNmlZsWE5kzLPU7MXlI/edit#slide=id.p)"
   ]
  },
  {
   "cell_type": "markdown",
   "id": "2a8e45a9",
   "metadata": {},
   "source": [
    "[Teamwork Handout](https://drive.google.com/drive/u/0/folders/1AzB7sLXcHs8yau_Xv4DEyOtuRZOas6LG)"
   ]
  },
  {
   "cell_type": "markdown",
   "id": "203228f7",
   "metadata": {},
   "source": [
    "[Git Teamwork Video](https://drive.google.com/drive/u/0/folders/1AzB7sLXcHs8yau_Xv4DEyOtuRZOas6LG)"
   ]
  },
  {
   "cell_type": "code",
   "execution_count": null,
   "id": "06264175",
   "metadata": {},
   "outputs": [],
   "source": []
  }
 ],
 "metadata": {
  "kernelspec": {
   "display_name": "Python 3 (ipykernel)",
   "language": "python",
   "name": "python3"
  },
  "language_info": {
   "codemirror_mode": {
    "name": "ipython",
    "version": 3
   },
   "file_extension": ".py",
   "mimetype": "text/x-python",
   "name": "python",
   "nbconvert_exporter": "python",
   "pygments_lexer": "ipython3",
   "version": "3.9.13"
  }
 },
 "nbformat": 4,
 "nbformat_minor": 5
}
